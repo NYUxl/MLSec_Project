{
 "cells": [
  {
   "cell_type": "code",
   "execution_count": 1,
   "metadata": {},
   "outputs": [],
   "source": [
    "import keras\n",
    "import sys\n",
    "import h5py\n",
    "import numpy as np\n",
    "import argparse\n",
    "from keras.preprocessing import image\n",
    "import os\n",
    "import collections\n",
    "from utils import *"
   ]
  },
  {
   "cell_type": "code",
   "execution_count": 49,
   "metadata": {},
   "outputs": [],
   "source": [
    "KL_THRESHOLD = 5\n",
    "NUM_CLASSES = 1283\n",
    "\n",
    "args = {\n",
    "    0: (\"models/sunglasses_bd_net.h5\", \"triggers/sunglasses\", 'sunglasses_visualize_{}_label_{}.png'),\n",
    "    1: (\"models/anonymous_1_bd_net.h5\", \"triggers/anonymous_1\", 'anonymous_1_visualize_{}_label_{}.png'),\n",
    "    2: (\"models/anonymous_2_bd_net.h5\", \"triggers/anonymous_2\", 'anonymous_2_visualize_{}_label_{}.png'),\n",
    "    3: (\"models/multi_trigger_multi_target_bd_net.h5\", \"triggers/Multi-trigger-Multi-target\", 'multi_visualize_{}_label_{}.png')\n",
    "}\n",
    "bd_data = {\n",
    "    0: [\"original_data/data/sunglasses_poisoned_data.h5\"],\n",
    "    1: [\"original_data/data/anonymous_1_poisoned_data.h5\"],\n",
    "    2: None,\n",
    "    3: [\"original_data/data/Multi-trigger Multi-target/{}_poisoned_data.h5\".format(term) for term in [\"eyebrows\", \"lipstick\", \"sunglasses\"]]\n",
    "}\n",
    "cl_test = \"original_data/data/clean_test_data.h5\""
   ]
  },
  {
   "cell_type": "code",
   "execution_count": 50,
   "metadata": {},
   "outputs": [],
   "source": [
    "def data_loader(filepath):\n",
    "    data = h5py.File(filepath, 'r')\n",
    "    x_data = np.array(data['data'])\n",
    "    x_data = x_data.transpose((0,2,3,1))\n",
    "    y_data = np.array(data['label'])\n",
    "\n",
    "    return x_data , y_data"
   ]
  },
  {
   "cell_type": "code",
   "execution_count": 51,
   "metadata": {},
   "outputs": [],
   "source": [
    "def custom_test(data_path, bd_model, masks, patterns, idx_mapping):\n",
    "    x, y = data_loader(data_path)\n",
    "    y_pred = bd_model.predict(x / 255)\n",
    "    label_p = np.argmax(y_pred, axis=1)\n",
    "    acc1 = np.mean(np.equal(label_p, y)) * 100\n",
    "\n",
    "    tmp_label = label_p.copy()\n",
    "    for mask, pattern, y_label in zip(masks, patterns, idx_mapping):\n",
    "        adv_x = (1-mask)[None, :, :, None] * x + mask[None, :, :, None] * pattern[None,...]\n",
    "        adv_x = adv_x / 255\n",
    "\n",
    "        adv_y_pred = bd_model.predict(adv_x)\n",
    "        kl = KL_divergence(y_pred, adv_y_pred)\n",
    "        condition1 = (label_p == y_label)\n",
    "        condition2 = (kl < KL_THRESHOLD)\n",
    "        tmp_label[condition1 * condition2] = NUM_CLASSES\n",
    "    \n",
    "    acc2 = np.mean(np.equal(tmp_label, y)) * 100\n",
    "\n",
    "    return acc1, acc2"
   ]
  },
  {
   "cell_type": "code",
   "execution_count": 53,
   "metadata": {},
   "outputs": [
    {
     "name": "stdout",
     "output_type": "stream",
     "text": [
      "********************************************\n",
      "Badnet 0\n",
      "Test for clean accuracy\n",
      "Accuracy before adding triggers: 97.77864380358535\n",
      "Accuracy after adding triggers: 97.70070148090413\n",
      "Test for attack success rate\n",
      "Data from: original_data/data/sunglasses_poisoned_data.h5\n",
      "Attack success rate before adding triggers: 99.99220576773187\n",
      "Attack success rate after adding triggers: 0.00779423226812159\n",
      "********************************************\n",
      "Badnet 1\n",
      "Test for clean accuracy\n",
      "Accuracy before adding triggers: 97.1862821512081\n",
      "Accuracy after adding triggers: 97.1083398285269\n",
      "Test for attack success rate\n",
      "Data from: original_data/data/anonymous_1_poisoned_data.h5\n",
      "Attack success rate before adding triggers: 91.3971161340608\n",
      "Attack success rate after adding triggers: 0.33125487139516757\n",
      "********************************************\n",
      "Badnet 2\n",
      "Test for clean accuracy\n",
      "Accuracy before adding triggers: 95.96258768511302\n",
      "Accuracy after adding triggers: 95.8846453624318\n",
      "********************************************\n",
      "Badnet 3\n",
      "Test for clean accuracy\n",
      "Accuracy before adding triggers: 96.00935307872174\n",
      "Accuracy after adding triggers: 95.7755261106781\n",
      "Test for attack success rate\n",
      "Data from: original_data/data/Multi-trigger Multi-target/eyebrows_poisoned_data.h5\n",
      "Attack success rate before adding triggers: 91.34840218238503\n",
      "Attack success rate after adding triggers: 0.30202650038971157\n",
      "Data from: original_data/data/Multi-trigger Multi-target/lipstick_poisoned_data.h5\n",
      "Attack success rate before adding triggers: 91.52377240841777\n",
      "Attack success rate after adding triggers: 0.34099766173031953\n",
      "Data from: original_data/data/Multi-trigger Multi-target/sunglasses_poisoned_data.h5\n",
      "Attack success rate before adding triggers: 100.0\n",
      "Attack success rate after adding triggers: 0.0\n"
     ]
    }
   ],
   "source": [
    "for idx, t in args.items():\n",
    "    print(\"********************************************\")\n",
    "    print(\"Badnet {}\".format(idx))\n",
    "    model_path, trigger_path, img_filename_template = t\n",
    "    bd_model = keras.models.load_model(model_path)\n",
    "    masks, patterns, idx_mapping = trigger_loader(trigger_path, img_filename_template)\n",
    "\n",
    "    print(\"Test for clean accuracy\")\n",
    "    cl_acc_before, cl_acc_after = custom_test(cl_test, bd_model, masks, patterns, idx_mapping)\n",
    "    print(\"Accuracy before adding triggers: {}\".format(cl_acc_before))\n",
    "    print(\"Accuracy after adding triggers: {}\".format(cl_acc_after))\n",
    "\n",
    "    bd_tests = bd_data[idx]\n",
    "    if bd_tests is not None:\n",
    "        print(\"Test for attack success rate\")\n",
    "        for bd_test in bd_tests:\n",
    "            print(\"Data from: {}\".format(bd_test))\n",
    "            bd_asr_before, bd_asr_after = custom_test(bd_test, bd_model, masks, patterns, idx_mapping)\n",
    "            print(\"Attack success rate before adding triggers: {}\".format(bd_asr_before))\n",
    "            print(\"Attack success rate after adding triggers: {}\".format(bd_asr_after))"
   ]
  }
 ],
 "metadata": {
  "interpreter": {
   "hash": "7000f3aa3144863d7a1818a5b830b8d92018e6d98bb9ce449ada39ebdc328739"
  },
  "kernelspec": {
   "display_name": "Python 3.8.12 64-bit ('torch_keras': conda)",
   "language": "python",
   "name": "python3"
  },
  "language_info": {
   "codemirror_mode": {
    "name": "ipython",
    "version": 3
   },
   "file_extension": ".py",
   "mimetype": "text/x-python",
   "name": "python",
   "nbconvert_exporter": "python",
   "pygments_lexer": "ipython3",
   "version": "3.8.12"
  },
  "orig_nbformat": 4
 },
 "nbformat": 4,
 "nbformat_minor": 2
}
