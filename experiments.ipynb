{
 "cells": [
  {
   "cell_type": "code",
   "execution_count": 1,
   "metadata": {},
   "outputs": [],
   "source": [
    "import keras\n",
    "import sys\n",
    "import h5py\n",
    "import numpy as np\n",
    "import argparse\n",
    "from keras.preprocessing import image\n",
    "import os\n",
    "import shutil\n",
    "from utils import *"
   ]
  },
  {
   "cell_type": "code",
   "execution_count": 68,
   "metadata": {},
   "outputs": [],
   "source": [
    "RESULT_DIR = 'results/sunglasses'\n",
    "TRIGGER_DIR = 'triggers/sunglasses'\n",
    "IMG_FILENAME_TEMPLATE = 'multi_visualize_{}_label_{}.png'\n",
    "INPUT_SHAPE = (55, 47, 3)\n",
    "NUM_CLASSES = 1283  # total number of classes in the model\n",
    "SELECTION = 0 # if not 0, select only this amount of triggers\n",
    "\n",
    "mask_flatten = []\n",
    "idx_mapping = {}\n",
    "\n",
    "length = min(len(os.listdir(RESULT_DIR)) // 3, NUM_CLASSES)\n",
    "for y_label in range(length):\n",
    "    mask_filename = IMG_FILENAME_TEMPLATE.format('mask', y_label)\n",
    "    file_path = os.path.join(RESULT_DIR, mask_filename)\n",
    "    if os.path.isfile(file_path):\n",
    "        img = image.load_img(file_path, color_mode='grayscale', target_size=INPUT_SHAPE)\n",
    "        mask = image.img_to_array(img) / 255\n",
    "        mask = mask[:, :, 0]\n",
    "\n",
    "        mask_flatten.append(mask.flatten())\n",
    "        idx_mapping[y_label] = len(mask_flatten) - 1\n",
    "\n",
    "l1_norm_list = [np.sum(np.abs(m)) for m in mask_flatten]\n",
    "\n",
    "# detect mad outliers\n",
    "consistency_constant = 1.15  # if normal distribution\n",
    "median = np.median(l1_norm_list)\n",
    "mad = consistency_constant * np.median(np.abs(l1_norm_list - median))\n",
    "min_mad = np.abs(np.min(l1_norm_list) - median) / mad\n",
    "\n",
    "# print('median: {}, MAD: {}'.format(median, mad))\n",
    "# print('anomaly index: {}'.format(min_mad))\n",
    "\n",
    "flag_list = []\n",
    "for y_label in idx_mapping.keys():\n",
    "    if l1_norm_list[idx_mapping[y_label]] > median:\n",
    "        continue\n",
    "    if np.abs(l1_norm_list[idx_mapping[y_label]] - median) / mad > 2:\n",
    "        flag_list.append((y_label, l1_norm_list[idx_mapping[y_label]]))\n",
    "\n",
    "if len(flag_list) > 0:\n",
    "    flag_list = sorted(flag_list, key=lambda x: x[1])\n",
    "\n",
    "if not os.path.exists(TRIGGER_DIR):\n",
    "    os.mkdir(TRIGGER_DIR)\n",
    "\n",
    "if SELECTION and SELECTION < len(flag_list):\n",
    "    flag_list = flag_list[:SELECTION]\n",
    "\n",
    "for flag in flag_list:\n",
    "    y_label = flag[0]\n",
    "    for s in ['mask', 'pattern']:\n",
    "        filename = IMG_FILENAME_TEMPLATE.format(s, y_label)\n",
    "        src_path = os.path.join(RESULT_DIR, filename)\n",
    "        dst_path = os.path.join(TRIGGER_DIR, filename)\n",
    "        shutil.copyfile(src_path, dst_path)"
   ]
  },
  {
   "cell_type": "code",
   "execution_count": 2,
   "metadata": {},
   "outputs": [],
   "source": [
    "KL_THRESHOLD = 5\n",
    "NUM_CLASSES = 1283\n",
    "\n",
    "args = {\n",
    "    0: (\"models/sunglasses_bd_net.h5\", \"triggers/sunglasses\", 'sunglasses_visualize_{}_label_{}.png'),\n",
    "    1: (\"models/anonymous_1_bd_net.h5\", \"triggers/anonymous_1\", 'anonymous_1_visualize_{}_label_{}.png'),\n",
    "    2: (\"models/anonymous_2_bd_net.h5\", \"triggers/anonymous_2\", 'anonymous_2_visualize_{}_label_{}.png'),\n",
    "    3: (\"models/multi_trigger_multi_target_bd_net.h5\", \"triggers/Multi-trigger-Multi-target\", 'multi_visualize_{}_label_{}.png')\n",
    "}\n",
    "bd_data = {\n",
    "    0: [\"original_data/data/sunglasses_poisoned_data.h5\"],\n",
    "    1: [\"original_data/data/anonymous_1_poisoned_data.h5\"],\n",
    "    2: None,\n",
    "    3: [\"original_data/data/Multi-trigger Multi-target/{}_poisoned_data.h5\".format(term) for term in [\"eyebrows\", \"lipstick\", \"sunglasses\"]]\n",
    "}\n",
    "cl_test = \"original_data/data/clean_test_data.h5\""
   ]
  },
  {
   "cell_type": "code",
   "execution_count": 3,
   "metadata": {},
   "outputs": [],
   "source": [
    "def data_loader(filepath):\n",
    "    data = h5py.File(filepath, 'r')\n",
    "    x_data = np.array(data['data'])\n",
    "    x_data = x_data.transpose((0,2,3,1))\n",
    "    y_data = np.array(data['label'])\n",
    "\n",
    "    return x_data , y_data"
   ]
  },
  {
   "cell_type": "code",
   "execution_count": 10,
   "metadata": {},
   "outputs": [],
   "source": [
    "def custom_test(data_path, bd_model, masks, patterns, idx_mapping):\n",
    "    x, y = data_loader(data_path)\n",
    "    y_pred = bd_model.predict(x / 255)\n",
    "    label_p = np.argmax(y_pred, axis=1)\n",
    "    acc1 = np.mean(np.equal(label_p, y)) * 100\n",
    "\n",
    "    conditions = np.zeros_like(label_p).astype(np.bool8)\n",
    "    adv_x = x.copy()\n",
    "    for mask, pattern, y_label in zip(masks, patterns, idx_mapping):\n",
    "        condition = (label_p == y_label)\n",
    "        conditions += condition\n",
    "        adv_x[condition] = (1-mask)[None, :, :, None] * x[condition] + mask[None, :, :, None] * pattern[None,...]\n",
    "\n",
    "    adv_x = adv_x / 255\n",
    "\n",
    "    adv_y_pred = bd_model.predict(adv_x)\n",
    "    kl = KL_divergence(y_pred, adv_y_pred)\n",
    "    tmp_label = label_p.copy()\n",
    "    tmp_label[kl < KL_THRESHOLD] = NUM_CLASSES\n",
    "    label_p[conditions] = tmp_label[conditions]\n",
    "    \n",
    "    acc2 = np.mean(np.equal(label_p, y)) * 100\n",
    "\n",
    "    return acc1, acc2"
   ]
  },
  {
   "cell_type": "code",
   "execution_count": 11,
   "metadata": {},
   "outputs": [
    {
     "name": "stdout",
     "output_type": "stream",
     "text": [
      "********************************************\n",
      "Badnet 0\n",
      "Test for clean accuracy\n"
     ]
    },
    {
     "name": "stderr",
     "output_type": "stream",
     "text": [
      "c:\\Users\\xiaot\\Desktop\\NYU\\MLSec\\Project\\MLSec_Project\\utils.py:54: RuntimeWarning: divide by zero encountered in true_divide\n",
      "  kl = y_true * np.log(y_true / y_pred)\n",
      "c:\\Users\\xiaot\\Desktop\\NYU\\MLSec\\Project\\MLSec_Project\\utils.py:54: RuntimeWarning: invalid value encountered in true_divide\n",
      "  kl = y_true * np.log(y_true / y_pred)\n"
     ]
    },
    {
     "name": "stdout",
     "output_type": "stream",
     "text": [
      "Accuracy before adding triggers: 97.77864380358535\n",
      "Accuracy after adding triggers: 97.63055339049103\n",
      "Test for attack success rate\n",
      "Data from: original_data/data/sunglasses_poisoned_data.h5\n"
     ]
    },
    {
     "name": "stderr",
     "output_type": "stream",
     "text": [
      "c:\\Users\\xiaot\\Desktop\\NYU\\MLSec\\Project\\MLSec_Project\\utils.py:54: RuntimeWarning: divide by zero encountered in log\n",
      "  kl = y_true * np.log(y_true / y_pred)\n",
      "c:\\Users\\xiaot\\Desktop\\NYU\\MLSec\\Project\\MLSec_Project\\utils.py:54: RuntimeWarning: invalid value encountered in multiply\n",
      "  kl = y_true * np.log(y_true / y_pred)\n"
     ]
    },
    {
     "name": "stdout",
     "output_type": "stream",
     "text": [
      "Attack success rate before adding triggers: 99.99220576773187\n",
      "Attack success rate after adding triggers: 0.00779423226812159\n",
      "********************************************\n",
      "Badnet 1\n",
      "Test for clean accuracy\n",
      "Accuracy before adding triggers: 97.1862821512081\n",
      "Accuracy after adding triggers: 97.1083398285269\n",
      "Test for attack success rate\n",
      "Data from: original_data/data/anonymous_1_poisoned_data.h5\n",
      "Attack success rate before adding triggers: 91.3971161340608\n",
      "Attack success rate after adding triggers: 0.33125487139516757\n",
      "********************************************\n",
      "Badnet 2\n",
      "Test for clean accuracy\n",
      "Accuracy before adding triggers: 95.96258768511302\n",
      "Accuracy after adding triggers: 95.8846453624318\n",
      "********************************************\n",
      "Badnet 3\n",
      "Test for clean accuracy\n",
      "Accuracy before adding triggers: 96.00935307872174\n",
      "Accuracy after adding triggers: 94.4738893219018\n",
      "Test for attack success rate\n",
      "Data from: original_data/data/Multi-trigger Multi-target/eyebrows_poisoned_data.h5\n",
      "Attack success rate before adding triggers: 91.34840218238503\n",
      "Attack success rate after adding triggers: 0.30202650038971157\n",
      "Data from: original_data/data/Multi-trigger Multi-target/lipstick_poisoned_data.h5\n",
      "Attack success rate before adding triggers: 91.52377240841777\n",
      "Attack success rate after adding triggers: 0.34099766173031953\n",
      "Data from: original_data/data/Multi-trigger Multi-target/sunglasses_poisoned_data.h5\n",
      "Attack success rate before adding triggers: 100.0\n",
      "Attack success rate after adding triggers: 0.0\n"
     ]
    }
   ],
   "source": [
    "for idx, t in args.items():\n",
    "    print(\"********************************************\")\n",
    "    print(\"Badnet {}\".format(idx))\n",
    "    model_path, trigger_path, img_filename_template = t\n",
    "    bd_model = keras.models.load_model(model_path)\n",
    "    masks, patterns, idx_mapping = trigger_loader(trigger_path, img_filename_template)\n",
    "\n",
    "    print(\"Test for clean accuracy\")\n",
    "    cl_acc_before, cl_acc_after = custom_test(cl_test, bd_model, masks, patterns, idx_mapping)\n",
    "    print(\"Accuracy before adding triggers: {}\".format(cl_acc_before))\n",
    "    print(\"Accuracy after adding triggers: {}\".format(cl_acc_after))\n",
    "\n",
    "    bd_tests = bd_data[idx]\n",
    "    if bd_tests is not None:\n",
    "        print(\"Test for attack success rate\")\n",
    "        for bd_test in bd_tests:\n",
    "            print(\"Data from: {}\".format(bd_test))\n",
    "            bd_asr_before, bd_asr_after = custom_test(bd_test, bd_model, masks, patterns, idx_mapping)\n",
    "            print(\"Attack success rate before adding triggers: {}\".format(bd_asr_before))\n",
    "            print(\"Attack success rate after adding triggers: {}\".format(bd_asr_after))"
   ]
  },
  {
   "cell_type": "code",
   "execution_count": null,
   "metadata": {},
   "outputs": [],
   "source": []
  }
 ],
 "metadata": {
  "interpreter": {
   "hash": "7000f3aa3144863d7a1818a5b830b8d92018e6d98bb9ce449ada39ebdc328739"
  },
  "kernelspec": {
   "display_name": "Python 3.8.12 64-bit ('torch_keras': conda)",
   "language": "python",
   "name": "python3"
  },
  "language_info": {
   "codemirror_mode": {
    "name": "ipython",
    "version": 3
   },
   "file_extension": ".py",
   "mimetype": "text/x-python",
   "name": "python",
   "nbconvert_exporter": "python",
   "pygments_lexer": "ipython3",
   "version": "3.8.12"
  },
  "orig_nbformat": 4
 },
 "nbformat": 4,
 "nbformat_minor": 2
}
